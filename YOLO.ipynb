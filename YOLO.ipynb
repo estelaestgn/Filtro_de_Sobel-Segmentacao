{
  "nbformat": 4,
  "nbformat_minor": 0,
  "metadata": {
    "colab": {
      "name": "yolo_imageai_video.ipynb",
      "provenance": [],
      "include_colab_link": true
    },
    "kernelspec": {
      "name": "python3",
      "display_name": "Python 3"
    },
    "accelerator": "GPU"
  },
  "cells": [
    {
      "cell_type": "markdown",
      "metadata": {
        "id": "view-in-github",
        "colab_type": "text"
      },
      "source": [
        "<a href=\"https://colab.research.google.com/github/estelaestgn/OpenCV_Segmentacao_Imagens/blob/main/YOLO.ipynb\" target=\"_parent\"><img src=\"https://colab.research.google.com/assets/colab-badge.svg\" alt=\"Open In Colab\"/></a>"
      ]
    },
    {
      "metadata": {
        "id": "Y4EXVKawm3rP"
      },
      "cell_type": "markdown",
      "source": [
        "# Video detection with ImageAI and YOLOv3"
      ]
    },
    {
      "metadata": {
        "id": "8uGRdi-om6wH"
      },
      "cell_type": "markdown",
      "source": [
        "**ImageAI** provided very powerful yet easy to use classes and functions to perform Video Object Detection and Tracking and Video analysis.\n",
        "\n",
        "**ImageAI** allows you to perform all of these with state-of-the-art deep learning algorithms like RetinaNet, YOLOv3 and TinyYOLOv3.\n",
        "\n",
        "With ImageAI you can run detection tasks and analyse videos and live-video feeds from device cameras and IP cameras.\n",
        "\n",
        "In this tutorial we will implement a case study using YOLOv3 over a stored video. The code is inspired by the [ImageAI documentation](https://imageai.readthedocs.io/en/latest/video/index.html)"
      ]
    },
    {
      "metadata": {
        "id": "tXvkvSC8eij8"
      },
      "cell_type": "markdown",
      "source": [
        "## Install & Load the resources"
      ]
    },
    {
      "metadata": {
        "id": "5uIMtTTlXfqm",
        "outputId": "202ee6f4-3a22-41d7-e1d8-03e16f3de31f",
        "colab": {
          "base_uri": "https://localhost:8080/"
        }
      },
      "cell_type": "code",
      "source": [
        "!pip3 install https://github.com/OlafenwaMoses/ImageAI/releases/download/2.0.2/imageai-2.0.2-py3-none-any.whl\n",
        "!pip install -q opencv-python\n",
        "!pip install -q pillow"
      ],
      "execution_count": 1,
      "outputs": [
        {
          "output_type": "stream",
          "name": "stdout",
          "text": [
            "Collecting imageai==2.0.2\n",
            "  Downloading https://github.com/OlafenwaMoses/ImageAI/releases/download/2.0.2/imageai-2.0.2-py3-none-any.whl (151 kB)\n",
            "\u001b[2K     \u001b[90m━━━━━━━━━━━━━━━━━━━━━━━━━━━━━━━━━━━━━━━\u001b[0m \u001b[32m151.3/151.3 kB\u001b[0m \u001b[31m2.1 MB/s\u001b[0m eta \u001b[36m0:00:00\u001b[0m\n",
            "\u001b[?25hInstalling collected packages: imageai\n",
            "Successfully installed imageai-2.0.2\n"
          ]
        }
      ]
    },
    {
      "metadata": {
        "id": "yw_KQVliZi75"
      },
      "cell_type": "code",
      "source": [
        "from imageai.Detection import VideoObjectDetection\n",
        "import matplotlib as plt\n",
        "import tensorflow as tf\n",
        "import numpy as np\n",
        "import scipy\n",
        "import keras\n",
        "import h5py\n",
        "import os"
      ],
      "execution_count": 21,
      "outputs": []
    },
    {
      "metadata": {
        "id": "DRHBJBtXe1Yp"
      },
      "cell_type": "markdown",
      "source": [
        "## Create an instance of the VideoObjectDetection"
      ]
    },
    {
      "metadata": {
        "id": "Xz5eb3mAZvpz"
      },
      "cell_type": "code",
      "source": [
        "detector = VideoObjectDetection()"
      ],
      "execution_count": 6,
      "outputs": []
    },
    {
      "metadata": {
        "id": "KmCIvOx2fElh"
      },
      "cell_type": "markdown",
      "source": [
        "## YOLO v3"
      ]
    },
    {
      "metadata": {
        "id": "gizGCAsKfHHJ"
      },
      "cell_type": "markdown",
      "source": [
        "This function sets the model type of the object detection instance we created to the YOLOv3 model, which means we will be performing our object detection tasks using the pre-trained “YOLOv3” model."
      ]
    },
    {
      "metadata": {
        "id": "TkupKxXDgD-d"
      },
      "cell_type": "markdown",
      "source": [
        "We can also set the model either to RetinaNet with **.setModelTypeAsRetinaNet()** or to TinyYOLOv3 with **.setModelTypeAsTinyYOLOv3()**"
      ]
    },
    {
      "metadata": {
        "id": "iUIfQDGzZ0g5"
      },
      "cell_type": "code",
      "source": [
        "detector.setModelTypeAsYOLOv3()"
      ],
      "execution_count": 7,
      "outputs": []
    },
    {
      "metadata": {
        "id": "0hHQkwpgfY1H"
      },
      "cell_type": "markdown",
      "source": [
        "## Mount the drive to import yolo.h5 and the video"
      ]
    },
    {
      "metadata": {
        "id": "kukVv8ubaXWl",
        "cellView": "code",
        "outputId": "8bdcf2d2-8d80-48db-84f6-545f62bc4259",
        "colab": {
          "base_uri": "https://localhost:8080/"
        }
      },
      "cell_type": "code",
      "source": [
        "from google.colab import drive\n",
        "drive.mount('/content/gdrive')"
      ],
      "execution_count": 8,
      "outputs": [
        {
          "output_type": "stream",
          "name": "stdout",
          "text": [
            "Mounted at /content/gdrive\n"
          ]
        }
      ]
    },
    {
      "metadata": {
        "id": "oa4aeibYbdtG"
      },
      "cell_type": "code",
      "source": [
        "!ls '/content/gdrive/MyDrive/Colab Notebooks/yolo/data'"
      ],
      "execution_count": 25,
      "outputs": []
    },
    {
      "metadata": {
        "id": "BIZuILNJg36Q"
      },
      "cell_type": "markdown",
      "source": [
        "## The model file\n",
        "This function accepts a string which must be the path to the model file we downloaded"
      ]
    },
    {
      "metadata": {
        "id": "J2C88FoldrHP"
      },
      "cell_type": "code",
      "source": [
        "detector.setModelPath(\"/content/gdrive/MyDrive/Colab Notebooks/yolo/data/yolo.h5\")"
      ],
      "execution_count": 26,
      "outputs": []
    },
    {
      "metadata": {
        "id": "GR9XmIAHhQpL"
      },
      "cell_type": "markdown",
      "source": [
        "## Load the model\n",
        "This function loads the model from the path we specified in the function call above into our object detection instance\n"
      ]
    },
    {
      "metadata": {
        "id": "tkYRCrYEZ6Xd",
        "colab": {
          "base_uri": "https://localhost:8080/",
          "height": 432
        },
        "outputId": "bf240e0f-9c97-44b6-b0a1-8184e8b04e64"
      },
      "cell_type": "code",
      "source": [
        "detector.loadModel()"
      ],
      "execution_count": 27,
      "outputs": [
        {
          "output_type": "error",
          "ename": "FileNotFoundError",
          "evalue": "ignored",
          "traceback": [
            "\u001b[0;31m---------------------------------------------------------------------------\u001b[0m",
            "\u001b[0;31mFileNotFoundError\u001b[0m                         Traceback (most recent call last)",
            "\u001b[0;32m<ipython-input-27-7e03f3565a2f>\u001b[0m in \u001b[0;36m<cell line: 1>\u001b[0;34m()\u001b[0m\n\u001b[0;32m----> 1\u001b[0;31m \u001b[0mdetector\u001b[0m\u001b[0;34m.\u001b[0m\u001b[0mloadModel\u001b[0m\u001b[0;34m(\u001b[0m\u001b[0;34m)\u001b[0m\u001b[0;34m\u001b[0m\u001b[0;34m\u001b[0m\u001b[0m\n\u001b[0m",
            "\u001b[0;32m/usr/local/lib/python3.10/dist-packages/imageai/Detection/__init__.py\u001b[0m in \u001b[0;36mloadModel\u001b[0;34m(self, detection_speed)\u001b[0m\n\u001b[1;32m   1022\u001b[0m                 model = yolo_main(Input(shape=(None, None, 3)), len(self.__yolo_anchors) // 3,\n\u001b[1;32m   1023\u001b[0m                                   len(self.numbers_to_names))\n\u001b[0;32m-> 1024\u001b[0;31m                 \u001b[0mmodel\u001b[0m\u001b[0;34m.\u001b[0m\u001b[0mload_weights\u001b[0m\u001b[0;34m(\u001b[0m\u001b[0mself\u001b[0m\u001b[0;34m.\u001b[0m\u001b[0mmodelPath\u001b[0m\u001b[0;34m)\u001b[0m\u001b[0;34m\u001b[0m\u001b[0;34m\u001b[0m\u001b[0m\n\u001b[0m\u001b[1;32m   1025\u001b[0m \u001b[0;34m\u001b[0m\u001b[0m\n\u001b[1;32m   1026\u001b[0m                 hsv_tuples = [(x / len(self.numbers_to_names), 1., 1.)\n",
            "\u001b[0;32m/usr/local/lib/python3.10/dist-packages/keras/utils/traceback_utils.py\u001b[0m in \u001b[0;36merror_handler\u001b[0;34m(*args, **kwargs)\u001b[0m\n\u001b[1;32m     68\u001b[0m             \u001b[0;31m# To get the full stack trace, call:\u001b[0m\u001b[0;34m\u001b[0m\u001b[0;34m\u001b[0m\u001b[0m\n\u001b[1;32m     69\u001b[0m             \u001b[0;31m# `tf.debugging.disable_traceback_filtering()`\u001b[0m\u001b[0;34m\u001b[0m\u001b[0;34m\u001b[0m\u001b[0m\n\u001b[0;32m---> 70\u001b[0;31m             \u001b[0;32mraise\u001b[0m \u001b[0me\u001b[0m\u001b[0;34m.\u001b[0m\u001b[0mwith_traceback\u001b[0m\u001b[0;34m(\u001b[0m\u001b[0mfiltered_tb\u001b[0m\u001b[0;34m)\u001b[0m \u001b[0;32mfrom\u001b[0m \u001b[0;32mNone\u001b[0m\u001b[0;34m\u001b[0m\u001b[0;34m\u001b[0m\u001b[0m\n\u001b[0m\u001b[1;32m     71\u001b[0m         \u001b[0;32mfinally\u001b[0m\u001b[0;34m:\u001b[0m\u001b[0;34m\u001b[0m\u001b[0;34m\u001b[0m\u001b[0m\n\u001b[1;32m     72\u001b[0m             \u001b[0;32mdel\u001b[0m \u001b[0mfiltered_tb\u001b[0m\u001b[0;34m\u001b[0m\u001b[0;34m\u001b[0m\u001b[0m\n",
            "\u001b[0;32m/usr/local/lib/python3.10/dist-packages/h5py/_hl/files.py\u001b[0m in \u001b[0;36m__init__\u001b[0;34m(self, name, mode, driver, libver, userblock_size, swmr, rdcc_nslots, rdcc_nbytes, rdcc_w0, track_order, fs_strategy, fs_persist, fs_threshold, fs_page_size, page_buf_size, min_meta_keep, min_raw_keep, locking, alignment_threshold, alignment_interval, meta_block_size, **kwds)\u001b[0m\n\u001b[1;32m    565\u001b[0m                                  \u001b[0mfs_persist\u001b[0m\u001b[0;34m=\u001b[0m\u001b[0mfs_persist\u001b[0m\u001b[0;34m,\u001b[0m \u001b[0mfs_threshold\u001b[0m\u001b[0;34m=\u001b[0m\u001b[0mfs_threshold\u001b[0m\u001b[0;34m,\u001b[0m\u001b[0;34m\u001b[0m\u001b[0;34m\u001b[0m\u001b[0m\n\u001b[1;32m    566\u001b[0m                                  fs_page_size=fs_page_size)\n\u001b[0;32m--> 567\u001b[0;31m                 \u001b[0mfid\u001b[0m \u001b[0;34m=\u001b[0m \u001b[0mmake_fid\u001b[0m\u001b[0;34m(\u001b[0m\u001b[0mname\u001b[0m\u001b[0;34m,\u001b[0m \u001b[0mmode\u001b[0m\u001b[0;34m,\u001b[0m \u001b[0muserblock_size\u001b[0m\u001b[0;34m,\u001b[0m \u001b[0mfapl\u001b[0m\u001b[0;34m,\u001b[0m \u001b[0mfcpl\u001b[0m\u001b[0;34m,\u001b[0m \u001b[0mswmr\u001b[0m\u001b[0;34m=\u001b[0m\u001b[0mswmr\u001b[0m\u001b[0;34m)\u001b[0m\u001b[0;34m\u001b[0m\u001b[0;34m\u001b[0m\u001b[0m\n\u001b[0m\u001b[1;32m    568\u001b[0m \u001b[0;34m\u001b[0m\u001b[0m\n\u001b[1;32m    569\u001b[0m             \u001b[0;32mif\u001b[0m \u001b[0misinstance\u001b[0m\u001b[0;34m(\u001b[0m\u001b[0mlibver\u001b[0m\u001b[0;34m,\u001b[0m \u001b[0mtuple\u001b[0m\u001b[0;34m)\u001b[0m\u001b[0;34m:\u001b[0m\u001b[0;34m\u001b[0m\u001b[0;34m\u001b[0m\u001b[0m\n",
            "\u001b[0;32m/usr/local/lib/python3.10/dist-packages/h5py/_hl/files.py\u001b[0m in \u001b[0;36mmake_fid\u001b[0;34m(name, mode, userblock_size, fapl, fcpl, swmr)\u001b[0m\n\u001b[1;32m    229\u001b[0m         \u001b[0;32mif\u001b[0m \u001b[0mswmr\u001b[0m \u001b[0;32mand\u001b[0m \u001b[0mswmr_support\u001b[0m\u001b[0;34m:\u001b[0m\u001b[0;34m\u001b[0m\u001b[0;34m\u001b[0m\u001b[0m\n\u001b[1;32m    230\u001b[0m             \u001b[0mflags\u001b[0m \u001b[0;34m|=\u001b[0m \u001b[0mh5f\u001b[0m\u001b[0;34m.\u001b[0m\u001b[0mACC_SWMR_READ\u001b[0m\u001b[0;34m\u001b[0m\u001b[0;34m\u001b[0m\u001b[0m\n\u001b[0;32m--> 231\u001b[0;31m         \u001b[0mfid\u001b[0m \u001b[0;34m=\u001b[0m \u001b[0mh5f\u001b[0m\u001b[0;34m.\u001b[0m\u001b[0mopen\u001b[0m\u001b[0;34m(\u001b[0m\u001b[0mname\u001b[0m\u001b[0;34m,\u001b[0m \u001b[0mflags\u001b[0m\u001b[0;34m,\u001b[0m \u001b[0mfapl\u001b[0m\u001b[0;34m=\u001b[0m\u001b[0mfapl\u001b[0m\u001b[0;34m)\u001b[0m\u001b[0;34m\u001b[0m\u001b[0;34m\u001b[0m\u001b[0m\n\u001b[0m\u001b[1;32m    232\u001b[0m     \u001b[0;32melif\u001b[0m \u001b[0mmode\u001b[0m \u001b[0;34m==\u001b[0m \u001b[0;34m'r+'\u001b[0m\u001b[0;34m:\u001b[0m\u001b[0;34m\u001b[0m\u001b[0;34m\u001b[0m\u001b[0m\n\u001b[1;32m    233\u001b[0m         \u001b[0mfid\u001b[0m \u001b[0;34m=\u001b[0m \u001b[0mh5f\u001b[0m\u001b[0;34m.\u001b[0m\u001b[0mopen\u001b[0m\u001b[0;34m(\u001b[0m\u001b[0mname\u001b[0m\u001b[0;34m,\u001b[0m \u001b[0mh5f\u001b[0m\u001b[0;34m.\u001b[0m\u001b[0mACC_RDWR\u001b[0m\u001b[0;34m,\u001b[0m \u001b[0mfapl\u001b[0m\u001b[0;34m=\u001b[0m\u001b[0mfapl\u001b[0m\u001b[0;34m)\u001b[0m\u001b[0;34m\u001b[0m\u001b[0;34m\u001b[0m\u001b[0m\n",
            "\u001b[0;32mh5py/_objects.pyx\u001b[0m in \u001b[0;36mh5py._objects.with_phil.wrapper\u001b[0;34m()\u001b[0m\n",
            "\u001b[0;32mh5py/_objects.pyx\u001b[0m in \u001b[0;36mh5py._objects.with_phil.wrapper\u001b[0;34m()\u001b[0m\n",
            "\u001b[0;32mh5py/h5f.pyx\u001b[0m in \u001b[0;36mh5py.h5f.open\u001b[0;34m()\u001b[0m\n",
            "\u001b[0;31mFileNotFoundError\u001b[0m: [Errno 2] Unable to open file (unable to open file: name = '/content/gdrive/My Drive/Colab Notebooks/yolo/data/yolo.h5', errno = 2, error message = 'No such file or directory', flags = 0, o_flags = 0)"
          ]
        }
      ]
    },
    {
      "metadata": {
        "id": "nkwwEt5ZjRGv"
      },
      "cell_type": "markdown",
      "source": [
        "## Detect Objects From Video\n",
        "This is the function that performs object detecttion on a video file or video live-feed after the model has been loaded into the instance we created."
      ]
    },
    {
      "metadata": {
        "id": "K4Dyp75tZ81V",
        "colab": {
          "base_uri": "https://localhost:8080/",
          "height": 15980
        },
        "outputId": "eff048bc-4e89-45b6-83fa-ca768d2ef7be"
      },
      "cell_type": "code",
      "source": [
        "video_path = detector.detectObjectsFromVideo(input_file_path=\"/content/gdrive/My Drive/Colab Notebooks/yolo/data/video.mp4\",\n",
        "                                output_file_path=\"/content/gdrive/My Drive/Colab Notebooks/yolo/data/video_output\",\n",
        "                                frames_per_second=29, log_progress=True)"
      ],
      "execution_count": null,
      "outputs": [
        {
          "output_type": "stream",
          "text": [
            "Processing Frame :  1\n",
            "Processing Frame :  2\n",
            "Processing Frame :  3\n",
            "Processing Frame :  4\n",
            "Processing Frame :  5\n",
            "Processing Frame :  6\n",
            "Processing Frame :  7\n",
            "Processing Frame :  8\n",
            "Processing Frame :  9\n",
            "Processing Frame :  10\n",
            ".\n",
            ".\n",
            ".\n",
            "Processing Frame :  900\n",
            "Processing Frame :  901\n",
            "Processing Frame :  902\n",
            "Processing Frame :  903\n",
            "Processing Frame :  904\n",
            "Processing Frame :  905\n",
            "Processing Frame :  906\n",
            "Processing Frame :  907\n"
          ],
          "name": "stdout"
        }
      ]
    },
    {
      "metadata": {
        "id": "7bYWXQdakpph"
      },
      "cell_type": "markdown",
      "source": [
        "– *parameter* **input_file_path** (required if you did not set camera_input) : This refers to the path to the video file you want to detect.\n",
        "\n",
        "— *parameter* **output_file_path** (required if you did not set save_detected_video = False) : This refers to the path to which the detected video will be saved. By default, this functionsaves video .avi format.\n",
        "\n",
        "– *parameter* **frames_per_second** (optional , but recommended) : This parameters allows you to set your desired frames per second for the detected video that will be saved. The default value is 20 but we recommend you set the value that suits your video or camera live-feed.\n",
        "\n",
        "— *parameter* **log_progress** (optional) : Setting this parameter to True shows the progress of the video or live-feed as it is detected in the CLI. It will report every frame detected as it progresses. The default value is False.\n",
        "\n",
        "— *parameter* **camera_input** (optional) : This parameter can be set in replacement of the input_file_path if you want to detect objects in the live-feed of a camera."
      ]
    },
    {
      "metadata": {
        "id": "1S3QGpHJlRJU",
        "colab": {
          "base_uri": "https://localhost:8080/",
          "height": 35
        },
        "outputId": "4a06bee3-03db-4cbe-cbab-e84934f77750"
      },
      "cell_type": "code",
      "source": [
        "!ls '/content/gdrive/My Drive/Colab Notebooks/yolo/data'"
      ],
      "execution_count": null,
      "outputs": [
        {
          "output_type": "stream",
          "text": [
            "complexe.jpg  simple.jpg  video.mp4  video_output.avi  yolo.h5\n"
          ],
          "name": "stdout"
        }
      ]
    }
  ]
}